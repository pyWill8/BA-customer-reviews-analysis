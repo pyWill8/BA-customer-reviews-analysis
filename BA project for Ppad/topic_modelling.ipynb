{
 "cells": [
  {
   "cell_type": "code",
   "execution_count": 72,
   "metadata": {},
   "outputs": [],
   "source": [
    "import pandas as pd\n",
    "from top2vec import Top2Vec\n",
    "from nltk.corpus import stopwords\n",
    "\n",
    "df = pd.read_csv('BA_reviews.csv')\n",
    "\n",
    "# displaying all columns/rows\n",
    "pd.set_option('display.max_columns', None)\n",
    "pd.set_option('display.max_rows', None)\n",
    "\n",
    "# removing Unnamed: 0 column\n",
    "df = df.drop(columns=['Unnamed: 0'])\n",
    "# Rows with a Overall Rating of 5 or less (out of 10)\n",
    "negative_df = df[df['Overall Rating'] <= 5]"
   ]
  },
  {
   "cell_type": "code",
   "execution_count": 73,
   "metadata": {},
   "outputs": [
    {
     "data": {
      "text/plain": [
       "0    ✅ Trip Verified | The check in process and rew...\n",
       "1    ✅ Trip Verified |   We flew in November 2023, ...\n",
       "2    ✅ Trip Verified | I left for London from Johan...\n",
       "3    ✅ Trip Verified |   After an excellent flight ...\n",
       "4    ✅ Trip Verified |   On a recent flight from Cy...\n",
       "Name: Reviews, dtype: object"
      ]
     },
     "execution_count": 73,
     "metadata": {},
     "output_type": "execute_result"
    }
   ],
   "source": [
    "negative_reviews = negative_df['Reviews']\n",
    "negative_reviews.iloc[:5]"
   ]
  },
  {
   "cell_type": "code",
   "execution_count": 74,
   "metadata": {},
   "outputs": [
    {
     "name": "stderr",
     "output_type": "stream",
     "text": [
      "C:\\Users\\Will\\AppData\\Local\\Temp\\ipykernel_6652\\763426708.py:4: FutureWarning: The default value of regex will change from True to False in a future version. In addition, single character regular expressions will *not* be treated as literal strings when regex=True.\n",
      "  negative_reviews = negative_reviews.str.replace('|', '')\n"
     ]
    },
    {
     "data": {
      "text/plain": [
       "0    check process reward/loyalty program mess. nev...\n",
       "1    flew November 2023, took long seek satisfactor...\n",
       "2    left London Johannesburg 21:15 22 December 202...\n",
       "3    excellent flight 777 CPT LHR return good. BA m...\n",
       "4    recent flight Cyprus BA621 23/11/24, second ca...\n",
       "Name: Reviews, dtype: object"
      ]
     },
     "execution_count": 74,
     "metadata": {},
     "output_type": "execute_result"
    }
   ],
   "source": [
    "# removing \"✅ Trip Verified |\", \"Not Verified |\", and stop words\n",
    "negative_reviews = negative_reviews.str.replace('✅ Trip Verified', '')\n",
    "negative_reviews = negative_reviews.str.replace('Not Verified', '')\n",
    "negative_reviews = negative_reviews.str.replace('|', '')\n",
    "\n",
    "stop_words = set(stopwords.words('english'))\n",
    "def remove_stopwords(sentence):\n",
    "    words = sentence.split()\n",
    "    filtered_words = [word for word in words if word.lower() not in stop_words]\n",
    "    return ' '.join(filtered_words)\n",
    "\n",
    "negative_reviews_cleaned = negative_reviews.apply(remove_stopwords)\n",
    "\n",
    "negative_reviews_cleaned.iloc[:5]\n"
   ]
  },
  {
   "cell_type": "code",
   "execution_count": 75,
   "metadata": {},
   "outputs": [
    {
     "data": {
      "text/plain": [
       "'check process reward/loyalty program mess. never able get points, even trying partner airline. Unfortunately work travel sometimes. time, flight delayed.'"
      ]
     },
     "execution_count": 75,
     "metadata": {},
     "output_type": "execute_result"
    }
   ],
   "source": [
    "\n",
    "negative_reviews_list = negative_reviews_cleaned.tolist()\n",
    "negative_reviews_list[0]"
   ]
  },
  {
   "cell_type": "code",
   "execution_count": 76,
   "metadata": {},
   "outputs": [
    {
     "name": "stderr",
     "output_type": "stream",
     "text": [
      "2025-01-07 17:51:58,029 - top2vec - INFO - Pre-processing documents for training\n",
      "2025-01-07 17:51:58,295 - top2vec - INFO - Creating joint document/word embedding\n",
      "2025-01-07 17:52:01,600 - top2vec - INFO - Creating lower dimension embedding of documents\n",
      "2025-01-07 17:52:04,824 - top2vec - INFO - Finding dense areas of documents\n",
      "2025-01-07 17:52:04,883 - top2vec - INFO - Finding topics\n"
     ]
    }
   ],
   "source": [
    "model = Top2Vec(documents=negative_reviews_list)"
   ]
  },
  {
   "cell_type": "code",
   "execution_count": 77,
   "metadata": {},
   "outputs": [
    {
     "name": "stdout",
     "output_type": "stream",
     "text": [
      "[0 1 2 3 4]\n"
     ]
    }
   ],
   "source": [
    "topic_sizes, topic_nums = model.get_topic_sizes()\n",
    "print(topic_nums)"
   ]
  },
  {
   "cell_type": "code",
   "execution_count": 78,
   "metadata": {},
   "outputs": [],
   "source": [
    "topic_words, word_scores, topic_nums = model.get_topics(4)"
   ]
  },
  {
   "cell_type": "code",
   "execution_count": 82,
   "metadata": {},
   "outputs": [
    {
     "name": "stdout",
     "output_type": "stream",
     "text": [
      "Topic #0 with size 716\n",
      "['getting' 'done' 'wanted' 'instead' 'unfortunately' 'holiday'\n",
      " 'everything' 'back' 'apparently' 'we' 'it' 'anything' 'give' 'delays'\n",
      " 'wait' 'less' 'night' 'without' 'lot' 've' 'know' 'going' 'possible'\n",
      " 'using' 'one' 'given' 'didn' 'would' 'absolutely' 'two' 'services'\n",
      " 'could' 'option' 'everyone' 'different' 'reason' 'went' 're' 'card'\n",
      " 'whole' 'case' 'either' 'this' 'trip' 'end' 'again' 'kept' 'simply'\n",
      " 'care' 'london']\n",
      "[0.9757851  0.9718951  0.96510684 0.9649189  0.96307343 0.9557885\n",
      " 0.9508037  0.95024085 0.94780254 0.94748753 0.946199   0.94579965\n",
      " 0.9456085  0.94430614 0.94420725 0.9438486  0.9427116  0.9426683\n",
      " 0.9414065  0.9409725  0.9384174  0.93671566 0.9364039  0.93519616\n",
      " 0.9351533  0.9350832  0.9339901  0.9339392  0.9331397  0.9331018\n",
      " 0.9326582  0.9325386  0.9313867  0.9302538  0.9297083  0.9280297\n",
      " 0.9279285  0.9271908  0.9271342  0.92709386 0.927029   0.9268063\n",
      " 0.9262425  0.92619973 0.9261159  0.9259852  0.9258251  0.92519224\n",
      " 0.92512536 0.92477196]\n",
      "\n"
     ]
    }
   ],
   "source": [
    "for words, scores, num in zip(topic_words, word_scores, topic_nums):\n",
    "    print(f\"Topic #{num} with size {topic_sizes[num]}\")\n",
    "    print(words)\n",
    "    print(scores)\n",
    "    print()\n",
    "    break\n",
    "    "
   ]
  },
  {
   "cell_type": "code",
   "execution_count": 80,
   "metadata": {},
   "outputs": [
    {
     "name": "stdout",
     "output_type": "stream",
     "text": [
      "Document #238 with score 0.9909299612045288\n",
      "luggage mis-tagged Dallas way Cairo via London. Luggage arrived LHR planned Saturday 6/24. However, upon arrival due luggage mis-tagged incorrect name luggage, never sent Cairo. sitting Terminal 3 LHR (I air tag luggage) British Airways saying nothing it. filed 3 claims, made 13 phone calls, hung 3x simple solve problem workers BA refuse solve problem.\n",
      "\n",
      "Document #119 with score 0.9885177612304688\n",
      "actually get fly BA cancelled flight 3 days notice refused offer acceptable alternative, resulting 2 people losing holiday (a river cruise). Since then, appears standard protocol, ignored every communication regarding obligations compensation option pursue via official channels.\n",
      "\n",
      "Document #1036 with score 0.9883452653884888\n",
      "London Houston. Executive gold club refused help keep us informed case get put flight subsequently missed another two days flights 6 possible flights per day. staff steadfastly opinion problem received card 801 USD buy essential items sufficient eyes, furthermore interested leaving go home ticked boxes end. Needless say away Christmas & New Year cannot wear basics dinner another fact really made impact consequence gold club team. repeatedly explained could attend dinner without proper attire currently residing case BA baggage handlers deemed less priority. given 801 USD phone calls made update us website advises currently looking luggage would case dismissed loaded onto today's flight. Furthermore suitcase could go minimum 6 flights per day including actual day sent later flight would reunited bag owner & negated requirement giving us 801 USD first place callous disregard blatant contempt displayed throughout ordeal ruined holiday extent requested BA return us home collect suitcase ourselves. tag may fallen concern everyone well aware shell case bar code stickers exact reason track items.\n",
      "\n",
      "Document #408 with score 0.985581636428833\n",
      "going Belfast London cancelled flight, didn’t even know cancelled. Someone behind us tell us. connecting flight spent lot money holiday. refund takes ages. Overall happy all.\n",
      "\n"
     ]
    }
   ],
   "source": [
    "# Looking at the documents that most relate to that topic, a higher score means the document is very similar to that topic. \n",
    "documents, document_scores, document_ids = model.search_documents_by_topic(topic_num=0, num_docs=4)\n",
    "\n",
    "for doc, score, doc_id in zip(documents, document_scores, document_ids):\n",
    "    print(f\"Document #{doc_id} with score {score}\")\n",
    "    print(doc)\n",
    "    print()\n"
   ]
  }
 ],
 "metadata": {
  "kernelspec": {
   "display_name": "Python 3",
   "language": "python",
   "name": "python3"
  },
  "language_info": {
   "codemirror_mode": {
    "name": "ipython",
    "version": 3
   },
   "file_extension": ".py",
   "mimetype": "text/x-python",
   "name": "python",
   "nbconvert_exporter": "python",
   "pygments_lexer": "ipython3",
   "version": "3.10.5"
  }
 },
 "nbformat": 4,
 "nbformat_minor": 2
}
